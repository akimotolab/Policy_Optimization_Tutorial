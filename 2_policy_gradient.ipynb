{
  "nbformat": 4,
  "nbformat_minor": 0,
  "metadata": {
    "colab": {
      "provenance": [],
      "gpuType": "T4",
      "authorship_tag": "ABX9TyM6cN6+VJ//49r2HH6dpkgs",
      "include_colab_link": true
    },
    "kernelspec": {
      "name": "python3",
      "display_name": "Python 3"
    },
    "language_info": {
      "name": "python"
    },
    "accelerator": "GPU"
  },
  "cells": [
    {
      "cell_type": "markdown",
      "metadata": {
        "id": "view-in-github",
        "colab_type": "text"
      },
      "source": [
        "<a href=\"https://colab.research.google.com/github/akimotolab/Policy_Optimization_Tutorial/blob/main/2_policy_gradient.ipynb\" target=\"_parent\"><img src=\"https://colab.research.google.com/assets/colab-badge.svg\" alt=\"Open In Colab\"/></a>"
      ]
    },
    {
      "cell_type": "markdown",
      "source": [
        "## 準備\n",
        "\n",
        "まず，必要なパッケージのインストールとインポート，および仮想displayを設定します．"
      ],
      "metadata": {
        "id": "qWe6P9xqH8be"
      }
    },
    {
      "cell_type": "code",
      "execution_count": null,
      "metadata": {
        "id": "kXoBp0fgHyhe"
      },
      "outputs": [],
      "source": [
        "# 必要なパッケージのインストール\n",
        "!apt update\n",
        "!pip install swig\n",
        "!apt install xvfb\n",
        "!pip install pyvirtualdisplay\n",
        "!pip install gymnasium[box2d]"
      ]
    },
    {
      "cell_type": "code",
      "source": [
        "from pyvirtualdisplay import Display\n",
        "import torch\n",
        "\n",
        "# 仮想ディスプレイの設定\n",
        "_display = Display(visible=False, size=(1400, 900))\n",
        "_ = _display.start()"
      ],
      "metadata": {
        "id": "iJ1PYM90IHa9"
      },
      "execution_count": null,
      "outputs": []
    },
    {
      "cell_type": "code",
      "source": [
        "import random\n",
        "import numpy as np\n",
        "from scipy.special import softmax\n",
        "import matplotlib\n",
        "import matplotlib.pyplot as plt\n",
        "from matplotlib import animation\n",
        "import seaborn as sns\n",
        "import gymnasium as gym\n",
        "from IPython import display"
      ],
      "metadata": {
        "id": "d5Oklvxh5nAC"
      },
      "execution_count": null,
      "outputs": []
    },
    {
      "cell_type": "markdown",
      "source": [
        "続いて，第１回の資料で定義した`rollout`などの基本的な関数をここでも定義しておきます．"
      ],
      "metadata": {
        "id": "ci2EEsRpD1oL"
      }
    },
    {
      "cell_type": "code",
      "source": [
        "def rollout(envname, policy=None, render=False, seed=None):\n",
        "    if render:\n",
        "        env = gym.make(envname, render_mode=\"rgb_array\")\n",
        "    else:\n",
        "        env = gym.make(envname)\n",
        "    history = []\n",
        "    img = []\n",
        "\n",
        "    # 乱数の設定\n",
        "    if seed is not None:\n",
        "        random.seed(int(seed))\n",
        "    envseed = random.randint(0, 1000)\n",
        "    actseed = random.randint(0, 1000)\n",
        "    observation, info = env.reset(seed=envseed)\n",
        "    env.action_space.seed(actseed)\n",
        "\n",
        "    # 可視化用の設定\n",
        "    if render:\n",
        "        d = Display()\n",
        "        d.start()\n",
        "        img.append(env.render())\n",
        "\n",
        "    # メインループ（環境とのインタラクション）\n",
        "    terminated = False\n",
        "    truncated = False\n",
        "    while not (terminated or truncated):\n",
        "\n",
        "        # 行動を選択\n",
        "        if policy is None:\n",
        "            action = env.action_space.sample()\n",
        "        else:\n",
        "            action = policy(observation)\n",
        "\n",
        "        # 行動を実行\n",
        "        next_observation, reward, terminated, truncated, info = env.step(action)\n",
        "        history.append([observation, action, next_observation, reward, terminated, truncated, info])\n",
        "        observation = next_observation\n",
        "        if render:\n",
        "            display.clear_output(wait=True)\n",
        "            img.append(env.render())\n",
        "    env.close()\n",
        "    return history, img\n",
        "\n",
        "\n",
        "def visualize(img):\n",
        "    dpi = 72\n",
        "    interval = 50\n",
        "    plt.figure(figsize=(img[0].shape[1]/dpi, img[0].shape[0]/dpi), dpi=dpi)\n",
        "    patch = plt.imshow(img[0])\n",
        "    plt.axis=('off')\n",
        "    animate = lambda i: patch.set_data(img[i])\n",
        "    ani = animation.FuncAnimation(plt.gcf(), animate, frames=len(img), interval=interval)\n",
        "    display.display(display.HTML(ani.to_jshtml()))\n",
        "    plt.close()\n",
        "\n",
        "\n",
        "def cumulative_reward(history):\n",
        "    return sum(hist[3] for hist in history)"
      ],
      "metadata": {
        "id": "9ELUIKjb5vY2"
      },
      "execution_count": null,
      "outputs": []
    },
    {
      "cell_type": "markdown",
      "source": [
        "# 方策勾配を用いた方策最適化（強化学習）\n",
        "\n",
        "今回は「方策勾配法」を見ていきます．\n",
        "第１回は，汎用的なブラックボックス最適化法を用いた方策最適化の例を見てもらいました．\n",
        "ブラックボックス最適化法を用いていたということは，目的関数$J(\\theta)$が「何らかの方策をパラメータ$\\theta$で用いた場合に，環境とインタラクションした結果得られる累積報酬」を意味しているという情報を用いずに，ただブラックボックスな関数として最適化していることを意味します．\n",
        "ここでは，積極的にこの知識を活用していく方法を検討していきましょう．\n",
        "ブラックボックス最適化としての方策最適化と，強化学習を用いた方策最適化の一番の違いがここにあります．"
      ],
      "metadata": {
        "id": "H_gG0F5uKTYS"
      }
    },
    {
      "cell_type": "markdown",
      "source": [
        "## 状態と行動の価値\n",
        "\n",
        "ブラックボックスな目的関数$J(\\theta)$では，一連のインタラクションを通して得られた報酬の合計を評価しています．\n",
        "これは，最大化したい指標であることに間違いありませんが，一方で，各状態でとった各行動が良かったのかどうか，という情報を与えてくれません．\n",
        "この情報を活用することができれば，ある状態$s$ではある行動$a$を取るとよい，ということがわかり，その確率を高くするように方策を改善することができそうです．"
      ],
      "metadata": {
        "id": "0_V-B-wGJsZH"
      }
    },
    {
      "cell_type": "markdown",
      "source": [
        "### 定式化\n",
        "まず，最低限の定式化を行います．\n",
        "今回対象としている方策最適化では，\n",
        "まず初期状態$s_0$を観測します．\n",
        "初期状態は確率分布$p_0$からランダムに生成されます．\n",
        "方策を通して，次にとる行動$a_0 \\sim \\pi(\\cdot \\mid s_0)$を決定します．\n",
        "ここでは，方策として確率的な方策を考えることにします．\n",
        "この行動を実行すると，状態が$s_1$に変わり，これを観測します．\n",
        "それと同時に，$s_0$で行動$a_0$を取ることの良さを表す即時報酬$r_1$が得られます．\n",
        "次状態と即時報酬は，環境が定める条件付き確率$p_T(s_1, r_1 \\mid s_0, a_0)$により定まります．\n",
        "このあとは，$s_1$において方策に従って次の行動$a_1 \\sim \\pi(\\cdot \\mid s_0)$を決定し，次状態と即時報酬を観測する，というステップを繰り返します．\n",
        "この環境との一度のインタラクションをステップと呼びます．\n",
        "\n",
        "注意：「環境が定める」といっても，実際に報酬を設計するのは自分自身（設計者）です．望ましい方策を得るためには，適切な報酬を設計することが極めて重要です．）"
      ],
      "metadata": {
        "id": "e0st6F33vB0v"
      }
    },
    {
      "cell_type": "markdown",
      "source": [
        "### 累積報酬\n",
        "強化学習においては，方策最適化の目的は割引累積報酬の期待値を最大化することと一般に定められます．\n",
        "あるステップ$t$において，その先に得られる割引累積報酬は\n",
        "$$\n",
        "G_t = r_{t+1} + \\gamma r_{t+2} + \\dots = \\sum_{k=0}^{\\infty} \\gamma^{k} r_{t+1+k}\n",
        "$$\n",
        "と定義されます．ここで，$\\gamma \\in [0, 1]$は割引率と呼ばれるパラメータです．\n",
        "方策，初期状態分布，状態遷移，即時報酬は確率的ですから，$G_t$自体も確率的に振る舞います．\n",
        "そこで，これの期待値$\\mathrm{E}[G_0]$を考え，これを最大化することを考えます．\n",
        "\n",
        "ここでは，インタラクションが無限に続くことを想定して$G_t$が定義されています．\n",
        "この場合，割引率は$\\gamma < 1$であることが必要です．\n",
        "エピソディックタスクの場合，特別な終了状態（例えば迷路のような問題において，ゴール状態に到達した，落とし穴に落ちて脱落した，など）があり，途中でエピソードが止まることになります．\n",
        "この場合にも，終了状態に達したあとは何をしても終了状態に遷移し，即時報酬はずっと0である，と考えれば，上の定義に当てはまります．\n",
        "このように，インタラクションに一区切りがあるようなタスクはエピソディックタスクと呼ばれ，この一区切りのステップのまとまりをエピソードと呼びます．\n",
        "最適化（学習）の都合上，特定のステップでインタラクションを打ち切り，無理やりエピソディックタスクにするような場合もありますが，この場合にも目的は$\\mathrm{E}[G_0]$の最大化である（有限ステップでの累積報酬ではない）と考えると，以下の議論が成立します．\n",
        "\n",
        "注意：制限時間などのように，特定のステップがすぎると強制的に状態がリセットされるようなケースの場合，注意が必要です．この場合，残り時間などを状態観測に含めることが必要になります．"
      ],
      "metadata": {
        "id": "RXkv9WldvGg6"
      }
    },
    {
      "cell_type": "markdown",
      "source": [
        "### 状態価値と行動価値\n",
        "\n",
        "状態$s$の価値を，「$s_0 = s$からインタラクションを始めて，方策$\\pi$に従って行動選択した際に得られる割引累積報酬の期待値$\\mathrm{E}[G_0 \\mid s_0 = s]$」と定義します．\n",
        "これを$V^{\\pi}(s)$と書きます．\n",
        "定義からわかるように，状態価値は方策$\\pi$に依存しています．\n",
        "割引累積報酬が\n",
        "$$\n",
        "G_{t} = r_{t+1} + \\gamma G_{t+1}\n",
        "$$\n",
        "という再帰的な関係式を満たすことを考えると，状態価値は\n",
        "$$\n",
        "V^{\\pi}(s) = \\mathrm{E}[r_{1} + \\gamma V^{\\pi}(s_{1}) \\mid s_0 = s]\n",
        "$$\n",
        "という関係式を満たすことがわかります．（実際に書き下して確認してみましょう．）\n",
        "なお，ステップのインデックスに関しては\n",
        "$$\n",
        "V^{\\pi}(s) = \\mathrm{E}[r_{t+1} + \\gamma V^{\\pi}(s_{t+1}) \\mid s_t = s]\n",
        "$$\n",
        "と考えても構いません．\n",
        "状態の価値が高いということは，その方策に従っている場合には，その状態からは得られる割引累積報酬の期待値が高いということを意味しています．\n",
        "ですから，そのような状態を積極的に訪問したいという指針になるでしょう．\n",
        "\n",
        "関連して，行動価値（状態行動価値とも言います）を，「$s_0 = s$からインタラクションを始めて，最初だけ行動$a$を選択し，その後は方策$\\pi$に従って行動選択した際に得られる割引累積報酬の期待値$\\mathrm{E}[G_0 \\mid s_0 = s, a_0 = a]$」と定義します．\n",
        "これを$Q^{\\pi}(s, a)$と書きます．\n",
        "定義からわかるように，もしも最初の行動を$a \\sim \\pi(\\cdot \\mid s)$にしたがって決定していれば行動価値関数の$a \\sim \\pi(\\cdot \\mid s)$についての期待値は，状態$s$の価値\n",
        "$$\n",
        "V^\\pi(s) = \\mathrm{E}[Q^{\\pi}(s, a) \\mid a \\sim \\pi(\\cdot \\mid s)]\n",
        "$$\n",
        "に一致します．\n",
        "\n",
        "価値関数はいずれも解析的に得られるものではありません．\n",
        "しかし，インタラクションを通して，近似していくことが可能です．\n",
        "その代表的な方法の一つに，TD誤差を用いた更新があります．"
      ],
      "metadata": {
        "id": "9PHLZ4LlvJNd"
      }
    },
    {
      "cell_type": "markdown",
      "source": [
        "## 方策勾配\n",
        "\n",
        "目的関数を数値的に最適化する際，まず考えられる方針は勾配法を用いることです．\n",
        "すなわち，$\\theta \\leftarrow \\theta + \\alpha_\\theta \\nabla_\\theta J(\\theta)$と更新する方法です．\n",
        "割引累積報酬をブラックボックスと捉えてしまうと勾配は計算できないのですが，価値関数を明示的に使うことで勾配をうまく近似することが可能です．\n",
        "「方策勾配定理」は，割引累積報酬の期待値の，方策パラメータについての期待値を書き下す方法を提供してくれます．"
      ],
      "metadata": {
        "id": "Lz8VutUocewQ"
      }
    },
    {
      "cell_type": "markdown",
      "source": [
        "### 方策勾配定理\n",
        "\n",
        "$J(\\theta) = \\mathrm{E}[V^{\\pi}(s) \\mid s \\sim p_0]$とします．\n",
        "このとき，\n",
        "$$\n",
        "\\nabla_\\theta J(\\theta) \\propto \\mathrm{E}\\left[ Q^{\\pi}(s, a) \\nabla_{\\theta} \\ln \\pi_\\theta(a \\mid s)  \\right]\n",
        "$$\n",
        "と書き下すことができます．\n",
        "ここで，上の期待値は，方策$\\pi_\\theta$のもとでの状態訪問確率と行動選択確率について取られています．\n",
        "実際にインタラクションを通して観測された状態とその状態のもとで方策$\\pi_\\theta$に従って選択された行動を用いれば，右辺は\n",
        "$$\n",
        "Q^{\\pi}(s_t, a_t) \\nabla_{\\theta} \\ln \\pi_\\theta(a_t \\mid s_t)\n",
        "$$\n",
        "で近似することができます．\n",
        "また，行動価値関数をその近似値$q(s_t, a_t)$で置き換えれば，勾配$\\nabla_\\theta J(\\theta)$の推定値として\n",
        "$$\n",
        "q(s_t, a_t) \\nabla_{\\theta} \\ln \\pi_\\theta(a_t \\mid s_t)\n",
        "$$\n",
        "を得ることができます．\n",
        "もしくは，1エピソード分の状態遷移履歴を用いて，\n",
        "$$\n",
        "\\frac{1}{T}\\sum_{t=0}^{T} q(s_t, a_t) \\nabla_{\\theta} \\ln \\pi_\\theta(a_t \\mid s_t)\n",
        "$$\n",
        "と近似することができます．\n",
        "これらを用いて，\n",
        "$$\n",
        "\\theta \\leftarrow \\theta + \\alpha_\\theta \\frac{1}{T}\\sum_{t=0}^{T} q(s_t, a_t) \\nabla_{\\theta} \\ln \\pi_\\theta(a_t \\mid s_t)\n",
        "$$\n",
        "などと方策パラメータを更新していきます．ここで，$\\alpha_\\theta$は学習率です．\n",
        "\n",
        "\n"
      ],
      "metadata": {
        "id": "awCoxRZr50Wm"
      }
    },
    {
      "cell_type": "markdown",
      "source": [
        "### 方策勾配の自動計算\n",
        "\n",
        "方策勾配を計算するには，方策の対数の方策パラメータについての勾配 $\\nabla_\\theta \\ln \\pi$ を求める必要があります．\n",
        "方策を変える毎に，これを計算して実行するのは，複雑な方策を採用する際には面倒になります．\n",
        "他方，深層学習で用いられている Pytorch などのライブラリでは，関数の勾配を自動的に計算してくれる機能が備わっています．この機能を活用することで，方策勾配も容易に計算することが可能になります．\n",
        "\n",
        "上に示した1エピソード分のデータを用いた方策勾配\n",
        "$$\n",
        "\\frac{1}{T}\\sum_{t=0}^{T} q(s_t, a_t) \\nabla_{\\theta} \\ln \\pi_\\theta(a_t \\mid s_t)\n",
        "$$\n",
        "を計算したい状況を考えましょう．\n",
        "いま，$q^{\\pi}(s_t, a_t)$は何らかの方法（後述します）で予め計算されているとします．\n",
        "このとき，以下のような関数を考えます．\n",
        "$$\n",
        "L(\\theta; \\{(s_t, a_t)\\}_{t=0}^{T}) = \\frac{1}{T}\\sum_{t=0}^{T} q(s_t, a_t) \\ln \\pi_\\theta(a_t \\mid s_t)\n",
        "$$\n",
        "このような関数$L$を定義すると，上に示した方策勾配は $\\nabla_\\theta L(\\theta; \\{(s_t, a_t)\\}_{t=0}^{T})$ であることが容易にわかります．\n",
        "\n",
        "この事実を用いると，方策勾配を自動計算することが可能になります．\n",
        "行動が離散であれば，各行動の選択確率からなるベクトルを返す関数モデルを用意しておけば，用意に計算できます．"
      ],
      "metadata": {
        "id": "SxNyza3zTfCL"
      }
    },
    {
      "cell_type": "code",
      "source": [
        "import torch\n",
        "import torch.nn as nn\n",
        "import torch.nn.functional as F\n",
        "import torch.optim as optim\n",
        "from torch.autograd import Variable\n",
        "from torch.distributions import Categorical\n",
        "\n",
        "# gpuが使用される場合の設定\n",
        "device = torch.device(\"cuda\" if torch.cuda.is_available() else \"cpu\" )"
      ],
      "metadata": {
        "id": "hDnqAPt1jSJh"
      },
      "execution_count": null,
      "outputs": []
    },
    {
      "cell_type": "markdown",
      "source": [
        "以下では，Pytorchを用いた方策（ここではActorと呼ぶことにします．これは今後紹介するActor-Criticアルゴリズムでの呼び方に従っています．）の実装方法を紹介します．\n",
        "ここでは四層のニューラルネットワークを用いています．中間層のノード数は`dim_hidden`により指定されています．\n",
        "\n",
        "関数`forward`が観測`x`を受け取って，これに対して各行動の選択確率を出力する関数です．\n",
        "行動選択確率は以下のように計算されます．\n",
        "入力を$h_0 = x$とします．\n",
        "$i = 1, 2, 3, 4$について，以下を計算します．\n",
        "$$\n",
        "h_i = g_i\\left( b_i + W_i h_{i=1}\\right)\n",
        "$$\n",
        "ここで，中間層の活性化関数$g_1, g_2, g_3$は$\\mathrm{ReLU}(s) = \\max(0, s)$であり，\n",
        "出力部分の活性化関数$g_4$は出力の和が$1$となるように，$\\mathrm{softmax}$を用いています．"
      ],
      "metadata": {
        "id": "KBZ3NMsNVNRT"
      }
    },
    {
      "cell_type": "code",
      "source": [
        "class Actor(nn.Module):\n",
        "    def __init__(self, dim_state, num_action, dim_hidden=16):\n",
        "        super(Actor, self).__init__()\n",
        "        self.fc1 = nn.Linear(dim_state, dim_hidden)\n",
        "        self.fc2 = nn.Linear(dim_hidden, dim_hidden)\n",
        "        self.fc3 = nn.Linear(dim_hidden, dim_hidden)\n",
        "        self.fc4 = nn.Linear(dim_hidden, num_action)\n",
        "\n",
        "    def forward(self, x):\n",
        "        x = F.relu(self.fc1(x))\n",
        "        x = F.relu(self.fc2(x))\n",
        "        x = F.relu(self.fc3(x))\n",
        "        x = F.softmax(self.fc4(x), dim=0)\n",
        "        return x"
      ],
      "metadata": {
        "id": "3d4NDkjPjSHG"
      },
      "execution_count": null,
      "outputs": []
    },
    {
      "cell_type": "markdown",
      "source": [
        "実行時間の観点から，簡易化した２層のモデルを以下の実験では使うことにします．"
      ],
      "metadata": {
        "id": "obdiPGS_u1AA"
      }
    },
    {
      "cell_type": "code",
      "source": [
        "class Actor(nn.Module):\n",
        "    def __init__(self, dim_state, num_action, dim_hidden=128):\n",
        "        super(Actor, self).__init__()\n",
        "        self.fc1 = nn.Linear(dim_state, dim_hidden)\n",
        "        self.fc2 = nn.Linear(dim_hidden, num_action)\n",
        "\n",
        "    def forward(self, x):\n",
        "        x = F.relu(self.fc1(x))\n",
        "        x = F.softmax(self.fc2(x), dim=0)\n",
        "        return x"
      ],
      "metadata": {
        "id": "MKmWVcecu0dL"
      },
      "execution_count": null,
      "outputs": []
    },
    {
      "cell_type": "markdown",
      "source": [
        "## REINFORCEアルゴリズム（行動価値関数のMonte Carlo推定を用いた方策勾配法）\n",
        "\n",
        "方策勾配を用いた強化学習の代表的な一つの方法である，REINFORCEアルゴリズムを紹介します．\n",
        "話を簡単にするために，ここでは\n",
        "\n",
        "1. エピソディックタスク，\n",
        "2. 割引率$\\gamma = 1$（割引なし），\n",
        "3. 確率的方策，\n",
        "\n",
        "であることを仮定します．\n",
        "\n",
        "方策勾配法を用いる場合，行動価値関数$Q^{\\pi}(s_t, a_t)$の近似値$q(s_t, a_t)$を得ることが必要になります．\n",
        "この$q(s_t, a_t)$の計算方法の違いにより，様々な方策勾配法のバリエーションが存在します．\n",
        "REINFORCEアルゴリズムでは，Monte-Carlo推定を用いてこれを近似して利用します．"
      ],
      "metadata": {
        "id": "D052tsAPBSKh"
      }
    },
    {
      "cell_type": "markdown",
      "source": [
        "### 行動価値関数のモンテカルロ推定\n",
        "\n",
        "行動価値関数$Q^{\\pi}(s, a)$は「$s_0 = s$からインタラクションを始めて，最初だけ行動$a$を選択し，その後は方策$\\pi$に従って行動選択した際に得られる割引累積報酬の期待値$\\mathrm{E}[G_0 \\mid s_0 = s, a_0 = a]$」と定義されます．\n",
        "すなわち，この期待値は各ステップ$t$での状態の訪問確率と行動の選択確率を知らなければ計算できません．\n",
        "行動の選択確率は方策で決まりますから，これは予め知っている情報ですが，ある状態である行動を取った際の次の状態への遷移確率は未知である（実際に実行して始めて次状態を観測できる）と仮定していますから，これを計算することはできません．\n",
        "期待値を厳密には計算できませんが，実際にインタラクションを通して累積報酬の実現値を観測することは可能です．\n",
        "これを用いて期待値を推定する方法がモンテカルロ推定です．\n",
        "\n",
        "状態遷移はステップ数$t$には依存しないため，行動価値関数$Q^{\\pi}(s, a)$は$\\mathrm{E}[G_t \\mid s_t = s, a_t = a]$と定義しても同じものになります．\n",
        "すなわち，ステップ$t$において観測した状態が$s_t = s$，$a_t = a$であったならば，そこから実際にインタラクションして得られた累積報酬 $G_t = r_{t+1} + \\dots + r_{T}$（$T$は終端ステップ）の期待値がその$(s_t, a_t)$の行動価値であり，観測された$G_t$は確率変数として見た場合の$G_t$の観測値（サンプル）であることがわかります．\n",
        "そのため，観測された$G_t$は行動価値$Q^\\pi(s_t, a_t)$の不偏推定値であることになります．\n",
        "そこで，これを$q^\\pi(s_t, a_t)$として採用することにしましょう．\n"
      ],
      "metadata": {
        "id": "NoMZcO82CzR6"
      }
    },
    {
      "cell_type": "markdown",
      "source": [
        "実装上は，1エピソードの結果得られる状態遷移履歴から，各ステップでの将来に得られる累積報酬を計算し，その配列を返します．\n",
        "終了状態から遡ることで計算することでこれを簡単に計算できます．"
      ],
      "metadata": {
        "id": "bFaE6C9oSCjb"
      }
    },
    {
      "cell_type": "markdown",
      "source": [
        "### REINFORCEアルゴリズム\n",
        "\n",
        "REINFORCEアルゴリズムは，価値のモンテカルロ推定を用いた方策勾配法です．\n",
        "REINFORCEにはいくつかのバリエーションがありますが，ここでは，エピソード単位で方策パラメータを更新する最もシンプルな方法を紹介します．\n",
        "（なお，状態遷移毎（ステップ毎）にパラメータを更新するバリエーションもあります．）\n",
        "\n",
        "まず，現在の方策を用いてEエピソード分だけ環境とインタラクションします．\n",
        "この結果から，エピソード内に訪問した各状態についての価値をモンテカルロ推定します．\n",
        "この推定価値を用いて，方策勾配を\n",
        "$$\\begin{aligned}\n",
        "\\nabla_\\theta J(\\theta)\n",
        "&= \\mathrm{E}\\left[ Q^{\\pi}(s, a) \\nabla_{\\theta} \\ln \\pi(a \\mid s)  \\right] \\\\\n",
        "&\\approx \\frac{1}{E}\\sum_{e=1}^{E}\\frac{1}{T_e}\\sum_{t=1}^{T_e} G_{e,t} \\nabla_{\\theta} \\ln \\pi(a_{e,t} \\mid s_{e,t}) =: \\widehat{\\nabla_\\theta J(\\theta) }\n",
        "\\end{aligned}\n",
        "$$\n",
        "と近似し，方策パラメータを$\\theta \\leftarrow \\theta + \\eta \\widehat{\\nabla_\\theta J(\\theta) }$に従って更新します．\n",
        "ここで，$\\eta > 0$は学習率を表し，問題や方策毎に調整が必要となります．\n",
        "また，状態，行動，累積報酬にはエピソードのインデックスが追加されており，終了ステップもエピソード毎に異なることに注意してください．"
      ],
      "metadata": {
        "id": "VGo279ppMl4o"
      }
    },
    {
      "cell_type": "markdown",
      "source": [
        "以下では，REINFORCEアルゴリズムを実装しています．\n",
        "\n",
        "`select_action`は状態観測を受け取り，方策に従って行動を選択しています．\n",
        "実装上は，観測状態をPytorchのテンソル形式に変換し，これをActorに入力して行動確率確率を計算し，これに従って行動をサンプルしています．\n",
        "パラメータを更新する際に必要になる$\\ln \\pi(a \\mid s)$も出力しています．\n",
        "\n",
        "`rollout`は現在の方策を用いて1エピソード分，環境と状態遷移を繰り返し，その際の即時報酬列と$\\ln \\pi(a \\mid s)$列を返します．\n",
        "\n",
        "`update`はActorのパラメータを更新する関数です．\n",
        "ここでは，エピソード数は$E = 1$を前提としています．\n",
        "確率的傾斜法の理屈から，$E$を大きくして方策勾配の分散を小さくすることと，学習率$\\eta$を小さくしてパラメータ更新の分散を小さくすることには類似の効果があることが知られています．\n",
        "そのため，以下の議論では主に$E = 1$を前提としていきます．\n",
        "\n"
      ],
      "metadata": {
        "id": "XBpIvjyPXvPN"
      }
    },
    {
      "cell_type": "code",
      "source": [
        "class ReinforceAgent:\n",
        "    def __init__(self, env, model, device, lr):\n",
        "        self.device = device\n",
        "        self.policy = model\n",
        "        self.env = env\n",
        "        self.optimizer = optim.Adam(self.policy.parameters(), lr=lr, betas=(0.9, 0.999))\n",
        "\n",
        "    def __call__(self, observation):\n",
        "        return self.select_action(observation)[0]\n",
        "\n",
        "    def select_action(self, observation):\n",
        "        # 行動選択\n",
        "        observation_ = Variable(torch.Tensor(observation)).to(self.device)\n",
        "        action_probs = self.policy(observation_)\n",
        "        log_probs = action_probs.log()\n",
        "        action = Categorical(action_probs).sample()\n",
        "        return action.data.cpu().numpy(), log_probs[action]\n",
        "\n",
        "    def rollout(self):\n",
        "        # 1 エピソード実行\n",
        "        observation, info = self.env.reset()\n",
        "        steps = 0\n",
        "        rewards = []\n",
        "        log_probs = []\n",
        "        terminated = False\n",
        "        truncated = False\n",
        "        while not (terminated or truncated):\n",
        "            action, log_prob = self.select_action(observation)\n",
        "            next_observation, reward, terminated, truncated, info = self.env.step(action)\n",
        "            log_probs.append(log_prob)\n",
        "            rewards.append(reward)\n",
        "            observation = next_observation\n",
        "            steps +=1\n",
        "        return rewards, log_probs\n",
        "\n",
        "    def update(self, rewards, log_probs):\n",
        "        # パラメータの更新\n",
        "        g_array = np.cumsum(np.array(rewards)[::-1])[::-1]\n",
        "        loss = - sum([g * lp for g, lp in zip(g_array, log_probs)]) / len(rewards)\n",
        "        self.optimizer.zero_grad()\n",
        "        loss.backward()\n",
        "        self.optimizer.step()"
      ],
      "metadata": {
        "id": "vKagOnIhjSFC"
      },
      "execution_count": null,
      "outputs": []
    },
    {
      "cell_type": "markdown",
      "source": [
        "`LunarLander-v2`環境で，REINFORCEアルゴリズムによる学習を実行してみます．\n",
        "比較的時間がかかりますので，注意してください．（30min程度）"
      ],
      "metadata": {
        "id": "ptJVsdesZOiF"
      }
    },
    {
      "cell_type": "code",
      "source": [
        "envname = \"LunarLander-v3\"\n",
        "dim_state = 8\n",
        "num_action = 4\n",
        "env = gym.make(envname)\n",
        "\n",
        "model = Actor(dim_state = 8, num_action = 4).to(device)\n",
        "agent = ReinforceAgent(env, model, device, lr=2e-4)"
      ],
      "metadata": {
        "id": "upMhDE3cjSC_"
      },
      "execution_count": null,
      "outputs": []
    },
    {
      "cell_type": "markdown",
      "source": [
        "ここでは，100エピソード毎に学習された方策を用いて得られる累積報酬の平均値と標準偏差を表示しています．"
      ],
      "metadata": {
        "id": "I2PEmHGOZpXC"
      }
    },
    {
      "cell_type": "code",
      "source": [
        "interval = 100\n",
        "returns = np.zeros((100, interval))\n",
        "\n",
        "for i in range(returns.shape[0]):\n",
        "    for j in range(returns.shape[1]):\n",
        "        rewards, log_probs = agent.rollout()\n",
        "        agent.update(rewards, log_probs)\n",
        "        returns[i, j] = np.sum(rewards)\n",
        "    print(interval * (i+1), np.mean(returns[i]), np.std(returns[i]))"
      ],
      "metadata": {
        "id": "V26zgXlbjSAC"
      },
      "execution_count": null,
      "outputs": []
    },
    {
      "cell_type": "markdown",
      "source": [
        "累積報酬の移り変わりを可視化してみます．累積報酬の平均値は改善していく様子が見られると思います．ただ，比較的標準偏差が大きいことが確認できるでしょう．\n",
        "累積報酬の平均値は上昇傾向にあるため，学習を繰り返せば改善していくことが期待されます．"
      ],
      "metadata": {
        "id": "f6dwfJlXaHTV"
      }
    },
    {
      "cell_type": "code",
      "source": [
        "episodes = np.arange(1, 1+returns.size, returns.shape[1])\n",
        "avg = np.mean(returns, axis=1)\n",
        "std = np.std(returns, axis=1)\n",
        "plt.errorbar(episodes, avg, std, linestyle=':', marker='^')\n",
        "plt.grid()"
      ],
      "metadata": {
        "id": "hqSNpXX_-3Ox"
      },
      "execution_count": null,
      "outputs": []
    },
    {
      "cell_type": "markdown",
      "source": [
        "学習後の経験分布関数を確認してみましょう．\n",
        "横軸は累積報酬を$-1$倍したものになりますので，小さい値が高い割合で得られるほど，望ましい方策が得られていると言えるでしょう．"
      ],
      "metadata": {
        "id": "a_paerEX87NG"
      }
    },
    {
      "cell_type": "code",
      "source": [
        "return_array = np.zeros(50)\n",
        "for i in range(len(return_array)):\n",
        "    history, img = rollout(envname, policy=agent, render=False)\n",
        "    return_array[i] = cumulative_reward(history)\n",
        "\n",
        "fig, ax = plt.subplots()\n",
        "sns.ecdfplot(data=-return_array, ax=ax)\n",
        "ax.set_xlim(-400, 400)\n",
        "plt.grid()"
      ],
      "metadata": {
        "id": "LFnPKD7v8IcW"
      },
      "execution_count": null,
      "outputs": []
    },
    {
      "cell_type": "markdown",
      "source": [
        "それでは学習結果を確認してみましょう．\n",
        "累積報酬の標準偏差が比較的大きいことが予想されますので，何度か実行し，確認してみましょう．"
      ],
      "metadata": {
        "id": "vOwLxBg_76NO"
      }
    },
    {
      "cell_type": "code",
      "source": [
        "history, img = rollout(envname, policy=agent, render=True)\n",
        "print(cumulative_reward(history))\n",
        "visualize(img)"
      ],
      "metadata": {
        "id": "pu_cbDuujR65"
      },
      "execution_count": null,
      "outputs": []
    },
    {
      "cell_type": "markdown",
      "source": [
        "前回のブラックボックス最適化法を用いた方策最適化に対して，方策勾配法は累積報酬だけでなく状態遷移の履歴を活用した方策最適化法になっています．しかし，あまり効率的になっている印象は持てないかもしれません．\n",
        "実際には方策モデルが異なるため今回の実験からは実行時間の比較ができません．\n",
        "また，強化学習では「期待累積報酬」を最大化しており，特定の乱数系列（特定の初期状態）のもとでの累積報酬最適化を行っていた前回の結果と比較するのはフェアではありません．\n",
        "\n",
        "ただ，上記のREINFORCEが効率的でないことも事実です．\n",
        "一つの原因として，「方策勾配は推定分散が大きい」ことが挙げられます．\n",
        "REINFORCEでは，エピソード中に得られた累積報酬を用いて価値関数を近似し，これを用いて方策勾配を近似しています．\n",
        "しかし，実行結果を見てもわかるように，累積報酬の値は大きな分散を持っているため，これを用いて推定される方策勾配も大きな分散を持ってしまいます．\n",
        "方策勾配の分散が大きい場合，これに伴って学習率を小さくしなければならず，学習が遅くなります．"
      ],
      "metadata": {
        "id": "Qdn9vkX0_nMK"
      }
    },
    {
      "cell_type": "markdown",
      "source": [
        "## ベースラインの導入による方策勾配の推定分散削減\n",
        "\n",
        "方策勾配の推定分散を削減するために，方策勾配の式を見直してみましょう．\n",
        "方策勾配は以下の式を近似しています．\n",
        "$$\n",
        "\\begin{aligned}\n",
        "&\\mathrm{E}\\left[ Q^{\\pi}(s, a) \\nabla_{\\theta} \\ln \\pi_\\theta(a \\mid s)  \\right]\n",
        "\\\\\n",
        "&= \\mathrm{E}_s \\mathrm{E}_a \\left[ Q^{\\pi}(s, a) \\nabla_{\\theta} \\ln \\pi_\\theta(a \\mid s)  \\right]\n",
        "\\\\\n",
        "&= \\mathrm{E}_s \\left[ \\sum_{a} Q^{\\pi}(s, a) \\pi_\\theta(a \\mid s)  \\nabla_{\\theta} \\ln \\pi_\\theta(a \\mid s)  \\right]\n",
        "\\\\\n",
        "&= \\mathrm{E}_s \\left[ \\sum_{a} Q^{\\pi}(s, a) \\nabla_{\\theta} \\pi_\\theta(a \\mid s)  \\right]\n",
        "\\end{aligned}\n",
        "$$\n",
        "この式を修正してみます．まず，ある関数$b(s)$について，\n",
        "$$\n",
        "\\sum_{a} b(s) \\nabla_{\\theta} \\pi_\\theta(a \\mid s)\n",
        "=\n",
        "b(s) \\sum_{a} \\nabla_{\\theta} \\pi_\\theta(a \\mid s)\n",
        "=\n",
        "b(s) \\nabla_{\\theta} \\sum_{a} \\pi_\\theta(a \\mid s)\n",
        "=\n",
        "b(s) \\nabla_{\\theta} 1\n",
        "= 0\n",
        "$$\n",
        "が成り立つことに注意すれば，上の式は，\n",
        "$$\\begin{aligned}\n",
        "\\mathrm{E}\\left[ Q^{\\pi}(s, a) \\nabla_{\\theta} \\ln \\pi_\\theta(a \\mid s)  \\right]\n",
        "&= \\mathrm{E}_s \\left[ \\sum_{a} \\left( Q^{\\pi}(s, a) - b(s) \\right) \\nabla_{\\theta} \\pi_\\theta(a \\mid s)  \\right]\n",
        "\\\\\n",
        "&= \\mathrm{E}_{s,a} \\left[ \\left( Q^{\\pi}(s, a) - b(s) \\right) \\nabla_{\\theta} \\ln \\pi_\\theta(a \\mid s)  \\right]\n",
        "\\end{aligned}\n",
        "$$\n",
        "と書き直すことができることがわかると思います．\n",
        "すなわち，行動価値関数$Q^{\\pi}(s, a)$から，状態のみに依存する任意の関数$b(s)$を引いたとしても，この期待値は変化しないことがわかります．\n",
        "しかし，これを推定する場合，\n",
        "$$\n",
        "\\left( q(s, a) - b(s) \\right) \\nabla_{\\theta} \\ln \\pi_\\theta(a \\mid s)\n",
        "$$\n",
        "の期待値は上の議論から代わりませんが，その推定分散は$b(s)$に依存することになります．\n",
        "そこで，この$b(s)$を工夫することで，推定量分散を小さくする試みがあります．\n",
        "\n",
        "代表的な$b(s)$の選択肢は，行動価値関数の行動についての期待値，すなわち状態価値関数です．\n",
        "行動価値から状態価値を引いた値はアドバンテージなどと呼ばれ，しばしば強化学習の文脈で現れる量になります．\n",
        "状態価値をベースラインとして利用することは，必ずしも最適ではありませんが，合理的と考えられる理由があります．これについて簡単に考察してみましょう．\n",
        "まず，$\\nabla \\ln \\pi(a \\mid s)$に着目します．\n",
        "これは，$\\ln \\pi(a \\mid s)$の勾配ですから，状態$s$で行動$a$を選択する確率が上昇する方向にパラメータが更新されます．\n",
        "上のREINFORCEでは，エピソード中に実際に観測した状態$s_t$とそこで選択された行動$a_t$について，$\\ln \\pi(a_t \\mid s_t)$に累積報酬を乗じた方向にパラメータが更新されています．\n",
        "ここで，Lunar-Landerの例に着目すると，エピソード中を通してほとんどの場合に累積報酬が負の値になっていることがわかると思います．\n",
        "このとき，どのような行動を取ったとしても，選択された行動の選択確率を下げる方向にパラメータは更新されることになります．\n",
        "これでは効率が悪い更新になっていると想像されます．\n",
        "期待値を累積報酬から減ずることにより，その状態で得られる累積報酬の期待値よりも高い価値を持つ行動については行動選択確率を上げ，逆に価値の低い行動については行動選択確率を下げる，といった更新が可能になります．\n",
        "（なお，常に行動選択確率を下げるにもかかわらず方策が収束していくのは，その下げ幅が報酬の大小関係により異なるため，長い目でみれば報酬の高い行動の選択確率が相対的に上がることになるためである）\n",
        "\n"
      ],
      "metadata": {
        "id": "lcx6bQC0V0s_"
      }
    },
    {
      "cell_type": "markdown",
      "source": [
        "### ベースラインを導入したREINFORCEアルゴリズム\n",
        "\n",
        "それでは状態価値をベースラインとしたREINFORCEアルゴリズムを実装してみましょう．\n",
        "追加で必要なコンポーネントは，状態価値の推定部分です．\n",
        "状態価値は，各状態でその先に得られる累積報酬の期待値で与えられます．\n",
        "そこで，状態価値を近似する関数モデルを$b_\\phi(s)$としたとき，1エピソード中の状態遷移履歴を用いて，\n",
        "$$\n",
        "L(\\phi) = \\frac{1}{T}\\sum_{t=1}^{T} (G_t - b_{\\phi}(s_{t-1}))^2\n",
        "$$\n",
        "を最小化するように$\\phi$を学習することが考えられます．"
      ],
      "metadata": {
        "id": "54PYDEl1Fo8z"
      }
    },
    {
      "cell_type": "markdown",
      "source": [
        "以下では，ベースラインを計算するネットワークを作成しています．\n",
        "ここでもActor-Criticにならい，ベースラインをCriticと呼ぶことにします．\n",
        "\n",
        "CriticのアーキテクチャはActorと同様とします．\n",
        "異なる点は，出力が1次元であり，出力には活性化関数を設けないという点です．"
      ],
      "metadata": {
        "id": "IK-B4miwa4IL"
      }
    },
    {
      "cell_type": "code",
      "source": [
        "class Critic(nn.Module):\n",
        "    def __init__(self, dim_state, dim_hidden=128):\n",
        "        super(Critic, self).__init__()\n",
        "        self.fc1 = nn.Linear(dim_state, dim_hidden)\n",
        "        self.fc2 = nn.Linear(dim_hidden, 1)\n",
        "\n",
        "    def forward(self, x):\n",
        "        x = F.relu(self.fc1(x))\n",
        "        x = self.fc2(x)\n",
        "        return x"
      ],
      "metadata": {
        "id": "eQFnydEz8ovf"
      },
      "execution_count": null,
      "outputs": []
    },
    {
      "cell_type": "markdown",
      "source": [
        "ベースラインを導入したREINFORCEアルゴリズムを実装します．\n",
        "`update`関数において，criticを更新している点が前述のREINFORCEとの差分です．"
      ],
      "metadata": {
        "id": "ni4vEzqDba5X"
      }
    },
    {
      "cell_type": "code",
      "source": [
        "class ReinforceBaselineAgent:\n",
        "    def __init__(self, env, actor, critic, device, lr_a, lr_c):\n",
        "        self.device = device\n",
        "        self.actor = actor\n",
        "        self.critic = critic\n",
        "        self.env = env\n",
        "        self.actor_optimizer = optim.Adam(self.actor.parameters(), lr=lr_a)\n",
        "        self.critic_optimizer = optim.Adam(self.critic.parameters(), lr=lr_c)\n",
        "\n",
        "    def __call__(self, observation):\n",
        "        return self.select_action(observation)[0]\n",
        "\n",
        "    def select_action(self, observation):\n",
        "        # 行動選択\n",
        "        observation_ = Variable(torch.Tensor(observation)).to(self.device)\n",
        "        action_probs = self.actor(observation_)\n",
        "        log_probs = action_probs.log()\n",
        "        action = Categorical(action_probs).sample()\n",
        "        return action.data.cpu().numpy(), log_probs[action]\n",
        "\n",
        "    def rollout(self):\n",
        "        # 1 エピソード実行\n",
        "        observation, info = self.env.reset()\n",
        "        steps = 0\n",
        "        rewards = []\n",
        "        log_probs = []\n",
        "        states = []\n",
        "        terminated = False\n",
        "        truncated = False\n",
        "        while not (terminated or truncated):\n",
        "            action, log_prob = self.select_action(observation)\n",
        "            next_observation, reward, terminated, truncated, info = self.env.step(action)\n",
        "            log_probs.append(log_prob)\n",
        "            rewards.append(reward)\n",
        "            states.append(observation)\n",
        "            observation = next_observation\n",
        "            steps +=1\n",
        "        return rewards, log_probs, states\n",
        "\n",
        "    def update(self, rewards, log_probs, states):\n",
        "        g_array = np.cumsum(np.array(rewards)[::-1])[::-1]\n",
        "        b_list = [self.critic(torch.Tensor(s).to(device)).cpu() for s in states]\n",
        "        # Actor の更新\n",
        "        b_array = torch.cat(b_list, dim=0).detach().numpy()\n",
        "        g_array = g_array - b_array\n",
        "        loss_a = - sum([g * lp for g, lp in zip(g_array, log_probs)]) / len(rewards)\n",
        "        self.actor_optimizer.zero_grad()\n",
        "        loss_a.backward()\n",
        "        self.actor_optimizer.step()\n",
        "        # Critic の更新\n",
        "        loss_c = sum([(b - g)**2 for g, b in zip(g_array, b_list)]) / len(states)\n",
        "        self.critic_optimizer.zero_grad()\n",
        "        loss_c.backward()\n",
        "        self.critic_optimizer.step()\n"
      ],
      "metadata": {
        "id": "GeCzR9UQjR0b"
      },
      "execution_count": null,
      "outputs": []
    },
    {
      "cell_type": "code",
      "source": [
        "envname = \"LunarLander-v3\"\n",
        "dim_state = 8\n",
        "num_action = 4\n",
        "env = gym.make(envname)\n",
        "\n",
        "actor2 = Actor(dim_state = 8, num_action = 4).to(device)\n",
        "critic2 = Critic(dim_state = 8).to(device)\n",
        "agent2 = ReinforceBaselineAgent(env, actor2, critic2, device, lr_a=2e-4, lr_c=2e-3)"
      ],
      "metadata": {
        "id": "4cJI3P6pAT9n"
      },
      "execution_count": null,
      "outputs": []
    },
    {
      "cell_type": "code",
      "source": [
        "interval = 100\n",
        "returns2 = np.zeros((100, interval))\n",
        "\n",
        "for i in range(returns2.shape[0]):\n",
        "    for j in range(returns2.shape[1]):\n",
        "        rewards, log_probs, states = agent2.rollout()\n",
        "        agent2.update(rewards, log_probs, states)\n",
        "        returns2[i, j] = np.sum(rewards)\n",
        "    print(interval * (i+1), np.mean(returns2[i]), np.std(returns2[i]))"
      ],
      "metadata": {
        "id": "lHdMuxUQAife"
      },
      "execution_count": null,
      "outputs": []
    },
    {
      "cell_type": "markdown",
      "source": [
        "ベースラインの有無による学習曲線の差を可視化してみましょう．\n",
        "比較のため，Actorの学習率をそろえていますが，ベースラインの導入により，方策勾配の分散が削減されるので，少し大きめの学習率を設定することも可能になり，その結果として高速化することも可能になると期待されます．\n",
        "ただ，一方で，ActorとCriticの学習率の両方を調整することが必要となるため，パラメータ調整が実用上は面倒になりえることは述べておきます．\n",
        "本来は各方策$\\pi$のもとでの価値関数に基づいて方策勾配は定義されています．\n",
        "そこで，価値関数の推定が方策の更新に先行するよう，Critic側の学習率を大きめに設定しています．\n",
        "\n",
        "[*重要*]\n",
        "ここで比較しているアプローチは，学習結果が乱数に依存します．そのため，本来一試行の結果を比較するというのは適切ではありません．偶然偏った結果が得られている可能性があるからです．例えば平均性能を比較したければ，複数試行学習を実施し，平均や標準偏差，もしくは中央値と四分位範囲，を可視化して比較するなどしましょう．"
      ],
      "metadata": {
        "id": "j5j-ip9ZcDxI"
      }
    },
    {
      "cell_type": "code",
      "source": [
        "episodes = np.arange(1, 1+returns.size, returns.shape[1])\n",
        "avg1 = np.mean(returns, axis=1)\n",
        "std1 = np.std(returns, axis=1)\n",
        "plt.errorbar(episodes, avg1, std1, linestyle=':', marker='^')\n",
        "avg2 = np.mean(returns2, axis=1)\n",
        "std2 = np.std(returns2, axis=1)\n",
        "plt.errorbar(episodes, avg2, std2, linestyle=':', marker='v')\n",
        "plt.grid()"
      ],
      "metadata": {
        "id": "SOXTLc4oxCXC"
      },
      "execution_count": null,
      "outputs": []
    },
    {
      "cell_type": "markdown",
      "source": [
        "経験分布関数についても確認しておきましょう．"
      ],
      "metadata": {
        "id": "pPZYoMrmdNjs"
      }
    },
    {
      "cell_type": "code",
      "source": [
        "return_array = np.zeros(50)\n",
        "for i in range(len(return_array)):\n",
        "    history, img = rollout(envname, policy=agent2, render=False)\n",
        "    return_array[i] = cumulative_reward(history)\n",
        "\n",
        "fig, ax = plt.subplots()\n",
        "sns.ecdfplot(data=-return_array, ax=ax)\n",
        "ax.set_xlim(-400, 400)\n",
        "plt.grid()"
      ],
      "metadata": {
        "id": "iVWlj9sJSXlR"
      },
      "execution_count": null,
      "outputs": []
    },
    {
      "cell_type": "markdown",
      "source": [
        "学習結果の確認は以下のコードで行います．"
      ],
      "metadata": {
        "id": "O5QmAygcdr9m"
      }
    },
    {
      "cell_type": "code",
      "source": [
        "history, img = rollout(envname, policy=agent2, render=True)\n",
        "print(cumulative_reward(history))\n",
        "visualize(img)"
      ],
      "metadata": {
        "id": "TW0fJ1TswjLg"
      },
      "execution_count": null,
      "outputs": []
    },
    {
      "cell_type": "markdown",
      "source": [
        "# 自習課題\n",
        "\n",
        "* 方策を変えてみましょう．特に，中間層のノード数を変更した場合に，学習効率がどの程度変わるのか，グラフを作成するなどして確認しましょう．\n",
        "\n",
        "* 学習率を調整してみましょう．特に，ベースラインを導入したREINFORCEでは，Actorの学習率とCriticの学習率について，効率的なパラメータの関係を確認してみましょう．\n",
        "\n",
        "* タスクを変えてみましょう．タスクが異なれば，適切な方策（ノード数など）や適切な学習率も変化する可能性があります．これを確認してみましょう．"
      ],
      "metadata": {
        "id": "uwEbG_9Bd26g"
      }
    }
  ]
}