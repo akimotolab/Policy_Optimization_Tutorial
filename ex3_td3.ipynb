{
  "nbformat": 4,
  "nbformat_minor": 0,
  "metadata": {
    "colab": {
      "provenance": [],
      "authorship_tag": "ABX9TyMSHbzqZciERj7ne+ciqUKK",
      "include_colab_link": true
    },
    "kernelspec": {
      "name": "python3",
      "display_name": "Python 3"
    },
    "language_info": {
      "name": "python"
    }
  },
  "cells": [
    {
      "cell_type": "markdown",
      "metadata": {
        "id": "view-in-github",
        "colab_type": "text"
      },
      "source": [
        "<a href=\"https://colab.research.google.com/github/akimotolab/Policy_Optimization_Tutorial/blob/main/ex3_td3.ipynb\" target=\"_parent\"><img src=\"https://colab.research.google.com/assets/colab-badge.svg\" alt=\"Open In Colab\"/></a>"
      ]
    },
    {
      "cell_type": "markdown",
      "source": [
        "# 課題内容\n",
        "\n",
        "ここでは，`4_deterministic_policy_graident.ipynb`で紹介したTD3アルゴリズムについて，以下の課題に取り組みます．\n"
      ],
      "metadata": {
        "id": "7wvixmLudn3B"
      }
    },
    {
      "cell_type": "markdown",
      "source": [
        "## 課題１．アブレーションテスト\n",
        "\n",
        "`4_deterministic_policy_gradient.ipynb`にて紹介したTD3で導入されている6つの工夫について，それぞれの効果を検証しましょう． 複数の工夫の相乗効果を考慮すると全部で\n",
        "通りの方法を検証することになり，時間がかかります．そのような場合，各コンポーネントだけを取り除いた方法（6つ）と全ての構成要素を加えた方法（1つ）を比較することで，いずれの要素も重要であることを示すアブレーションテスト（ablation test, ablation study）がしばしば用いられます．アブレーションテストを実施し，各コンポーネントの効果を考察してみましょう．\n",
        "\n",
        "効果は一つの環境（上であれば`Pendulum-v1`）で全ての効果があらわれるとは限りません．`Pendulum-v1`を含む２つ以上の環境でテストしてみましょう．TD3は連続状態，連続行動を想定していますので，そのような環境をいくつか選択し，実験結果を比較しましょう．\n",
        "\n",
        "各環境について，合計7個の手法を比較することになります．実験目的で確認したい事項について，比較しやすい図を作成することを心がけましょう．"
      ],
      "metadata": {
        "id": "Q3rYuwpMeEL-"
      }
    },
    {
      "cell_type": "markdown",
      "source": [
        "## 課題２．（余力があれば）複数手法の比較\n",
        "\n",
        "複数の最新手法を比較してみましょう．\n",
        "Pythonにおいて，複数の強化学習手法をサポートしているライブラリーとして，`Stable-Baselines3`が挙げられます．\n",
        "`Stable-Baselines3`では，TD3を含むいくつかの強化学習アルゴリズムが実装されています．\n",
        "TD3を含むいくつかのアルゴリズムを，いくつかの環境において比較し，それぞれの特徴を考察しましょう．"
      ],
      "metadata": {
        "id": "XGL1bMpnlTEr"
      }
    },
    {
      "cell_type": "markdown",
      "source": [
        "# レポートについて\n",
        "\n",
        "レポートの執筆方法は`ex1_evolutionary_policy_optimization.ipynb`に従ってください．ただし，実験目的，設定，結果は課題毎に異なるため，課題１，２のそれぞれについて，実験目的から実験結果までを記載してください．共通の設定については，例えば課題２についてまとめている箇所において，「〜については課題１と同様とする．」などと記載すれば十分です．異なる点については必ず明記しましょう．"
      ],
      "metadata": {
        "id": "WkQJmutIfmBe"
      }
    }
  ]
}